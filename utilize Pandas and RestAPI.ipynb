{
 "cells": [
  {
   "cell_type": "markdown",
   "metadata": {},
   "source": [
    "# Recap : Utilize Pandas Dataframe and Requests "
   ]
  },
  {
   "cell_type": "markdown",
   "metadata": {},
   "source": [
    "### Use csv file with pandas and matplotlib module"
   ]
  },
  {
   "cell_type": "code",
   "execution_count": null,
   "metadata": {
    "collapsed": true
   },
   "outputs": [],
   "source": [
    "import pandas as pd # import pandas module and declare alias is pd"
   ]
  },
  {
   "cell_type": "code",
   "execution_count": null,
   "metadata": {
    "collapsed": true
   },
   "outputs": [],
   "source": [
    "import matplotlib.pyplot as plt # import matplotlib module and declare alias is plt"
   ]
  },
  {
   "cell_type": "code",
   "execution_count": null,
   "metadata": {
    "collapsed": true
   },
   "outputs": [],
   "source": [
    "import json\n",
    "import requests"
   ]
  },
  {
   "cell_type": "code",
   "execution_count": null,
   "metadata": {
    "collapsed": true
   },
   "outputs": [],
   "source": [
    "%matplotlib inline \n",
    "# This line only need if you want to plot on jupyter notebook"
   ]
  },
  {
   "cell_type": "markdown",
   "metadata": {},
   "source": [
    "### Declare global variable"
   ]
  },
  {
   "cell_type": "code",
   "execution_count": null,
   "metadata": {
    "collapsed": true
   },
   "outputs": [],
   "source": [
    "global filePath \n",
    "filePath = './SolarData.csv'"
   ]
  },
  {
   "cell_type": "markdown",
   "metadata": {},
   "source": [
    "### Declare plot function"
   ]
  },
  {
   "cell_type": "code",
   "execution_count": null,
   "metadata": {
    "collapsed": true
   },
   "outputs": [],
   "source": [
    "def plotData(data): # Function Plot\n",
    "    plt.xlabel('Time')\n",
    "    plt.ylabel('Radiation')\n",
    "    plt.title('Daily Solar Radiation')\n",
    "    plt.plot(data['Radiation'],'r.-')\n",
    "    #plt.gcf().autofmt_xdate()\n",
    "    plt.show()"
   ]
  },
  {
   "cell_type": "markdown",
   "metadata": {},
   "source": [
    "### Create Filter Function for Select Date of interest"
   ]
  },
  {
   "cell_type": "code",
   "execution_count": null,
   "metadata": {
    "collapsed": true
   },
   "outputs": [],
   "source": [
    "def SelOneDay(DateStr, df) : # This Function use to select data where DateStr = '9/29/2016'\n",
    "    daily = df.loc[df['Data'].str.contains(DateStr)] # command for select only Data is contained DateStr\n",
    "    return daily"
   ]
  },
  {
   "cell_type": "markdown",
   "metadata": {},
   "source": [
    "### Load CSV File to pandas Dataframe \n",
    "Load CSV File with .read_csv method in pandas"
   ]
  },
  {
   "cell_type": "code",
   "execution_count": null,
   "metadata": {
    "collapsed": true
   },
   "outputs": [],
   "source": [
    "def LoadData(): # Function Load data to DataFrame\n",
    "    df = pd.DataFrame() # Create Blank Dataframe\n",
    "    df = pd.read_csv(filePath) # Read CSV File to pandas dataframe\n",
    "    df.sort_values(by=['UNIXTime'])\n",
    "    return df"
   ]
  },
  {
   "cell_type": "code",
   "execution_count": null,
   "metadata": {
    "collapsed": true
   },
   "outputs": [],
   "source": [
    "def main():\n",
    "    print('Start Load Dataset')\n",
    "    df = pd.DataFrame()\n",
    "    df = LoadData()\n",
    "    oneday = SelOneDay('9/27/2016', df) # You can Change Date String here\n",
    "    plotData(oneday)\n",
    "    return df"
   ]
  },
  {
   "cell_type": "code",
   "execution_count": null,
   "metadata": {
    "scrolled": false
   },
   "outputs": [],
   "source": [
    "if __name__ == '__main__':\n",
    "    df = main()"
   ]
  },
  {
   "cell_type": "code",
   "execution_count": null,
   "metadata": {},
   "outputs": [],
   "source": [
    "df.head(5)"
   ]
  },
  {
   "cell_type": "markdown",
   "metadata": {},
   "source": [
    "### Now df variable that returned is a Data in CSV File that contains in Pandas DataFrame\n",
    "##### you can access all data that you specific field name with df['fieldname'] "
   ]
  },
  {
   "cell_type": "code",
   "execution_count": null,
   "metadata": {},
   "outputs": [],
   "source": [
    "df['Humidity'].head(10) # Whole Data are queried but use head to limit it to show."
   ]
  },
  {
   "cell_type": "markdown",
   "metadata": {},
   "source": [
    "### Select single row and parse to Dict Variable example"
   ]
  },
  {
   "cell_type": "code",
   "execution_count": null,
   "metadata": {
    "collapsed": true
   },
   "outputs": [],
   "source": [
    "OneRow = df.iloc[0] # Use iloc for Select with index or label"
   ]
  },
  {
   "cell_type": "code",
   "execution_count": null,
   "metadata": {},
   "outputs": [],
   "source": [
    "OneRow"
   ]
  },
  {
   "cell_type": "code",
   "execution_count": null,
   "metadata": {
    "collapsed": true
   },
   "outputs": [],
   "source": [
    "dataDict = OneRow.to_dict() # Use to_dict method for convert the Data Frame to Dict variable"
   ]
  },
  {
   "cell_type": "code",
   "execution_count": null,
   "metadata": {},
   "outputs": [],
   "source": [
    "dataDict"
   ]
  },
  {
   "cell_type": "code",
   "execution_count": null,
   "metadata": {},
   "outputs": [],
   "source": [
    "print(type(dataDict)) "
   ]
  },
  {
   "cell_type": "markdown",
   "metadata": {},
   "source": [
    "### Parse Dict to JSON Object"
   ]
  },
  {
   "cell_type": "code",
   "execution_count": null,
   "metadata": {
    "collapsed": true
   },
   "outputs": [],
   "source": [
    "DataJson = json.dumps(dataDict)"
   ]
  },
  {
   "cell_type": "code",
   "execution_count": null,
   "metadata": {},
   "outputs": [],
   "source": [
    "print(type(DataJson))"
   ]
  },
  {
   "cell_type": "code",
   "execution_count": null,
   "metadata": {},
   "outputs": [],
   "source": [
    "print(DataJson)"
   ]
  },
  {
   "cell_type": "markdown",
   "metadata": {},
   "source": [
    "### This is Example for send REST with post method to Free RESTFul API Develop Host (HookBIN)\n",
    "#### First you must go to https://hookbin.com and Click Button Create New End Point"
   ]
  },
  {
   "cell_type": "markdown",
   "metadata": {},
   "source": [
    "![Page Logo](./images/1.png) \n"
   ]
  },
  {
   "cell_type": "markdown",
   "metadata": {},
   "source": [
    "##### Then you got the URL end Point you must use it as Backend endpoint to store your data\n",
    "- Copy url and replace in url variable\n",
    "- Use DataJson as a body\n",
    "- waitting for the request got response 200 Status\n",
    "#### When it show status code = 200 you must go back to hook.bin page and Refresh it to show your output."
   ]
  },
  {
   "cell_type": "markdown",
   "metadata": {},
   "source": [
    "![Page2 Logo](./images/2.png) "
   ]
  },
  {
   "cell_type": "code",
   "execution_count": null,
   "metadata": {},
   "outputs": [],
   "source": [
    "try:\n",
    "        response = requests.post(\n",
    "            url=\"https://hookb.in/K2JwGWp2\",  # You must change URL EndPoint Here !!!!!\n",
    "            headers={\n",
    "                \"Content-Type\": \"text/plain; charset=utf-8\",\n",
    "            },\n",
    "            data= DataJson\n",
    "        )\n",
    "        print('Response HTTP Status Code: {status_code}'.format(status_code=response.status_code))\n",
    "        print('Response HTTP Response Body: {content}'.format(content=response.content))\n",
    "\n",
    "except requests.exceptions.RequestException:\n",
    "        print('HTTP Request failed')"
   ]
  },
  {
   "cell_type": "markdown",
   "metadata": {},
   "source": [
    "![Page3 Logo](./images/3.png) "
   ]
  },
  {
   "cell_type": "markdown",
   "metadata": {},
   "source": [
    "#### Side Note Idea : You can implement backend in area of url that you create and do any stuff for make python to something you want such as put the json data to database or use it as input for calculation somthing and return answer to frontend as HTTP Body again"
   ]
  },
  {
   "cell_type": "markdown",
   "metadata": {},
   "source": [
    "## Example for get Weather Data with Latitude and Longitude \n",
    "### This Example use the OpenWeatherMap :  https://openweathermap.org/api \n",
    "### Let's Do it.\n",
    "#### Note !! You can use google map to get Lat ,Lon "
   ]
  },
  {
   "cell_type": "code",
   "execution_count": null,
   "metadata": {},
   "outputs": [],
   "source": [
    "from IPython.display import IFrame\n",
    "IFrame('https://www.google.com/maps/embed?pb=!1m18!1m12!1m3!1d31538.33703598354!2d100.04262477919507!3d13.804936192751265!2m3!1f0!2f0!3f0!3m2!1i1024!2i768!4f13.1!3m3!1m2!1s0x0%3A0x82f9a5fa3e0adedf!2sThe+Museum+Hotel!5e0!3m2!1sth!2sth!4v1521968397461', 1000, 450)"
   ]
  },
  {
   "cell_type": "code",
   "execution_count": null,
   "metadata": {
    "collapsed": true
   },
   "outputs": [],
   "source": [
    "Lat = '13.8049362'\n",
    "Lon = '100.0426248' # Assigned Latitude and Longitude value here"
   ]
  },
  {
   "cell_type": "markdown",
   "metadata": {},
   "source": [
    "### Try it Here"
   ]
  },
  {
   "cell_type": "code",
   "execution_count": null,
   "metadata": {},
   "outputs": [],
   "source": [
    "try:\n",
    "        response = requests.get(\n",
    "            url=\"http://api.openweathermap.org/data/2.5/weather\",\n",
    "            params={\n",
    "                \"lat\": Lat, \n",
    "                \"lon\": Lon,\n",
    "                \"appid\": \"e08026ccf45b9282e18d158606b39aef\",\n",
    "            },\n",
    "            headers={\n",
    "                \"Content-Type\": \"application/octet-stream\",\n",
    "            },\n",
    "        )\n",
    "        print('Response HTTP Status Code: {status_code}'.format(status_code=response.status_code))\n",
    "        #print('Response HTTP Response Body: {content}'.format(content=response.content))\n",
    "        weather = response.content\n",
    "except requests.exceptions.RequestException:\n",
    "        print('HTTP Request failed')"
   ]
  },
  {
   "cell_type": "code",
   "execution_count": null,
   "metadata": {
    "collapsed": true
   },
   "outputs": [],
   "source": [
    "weatherJson = json.loads(weather) # Load Html Body to Dict Variable"
   ]
  },
  {
   "cell_type": "code",
   "execution_count": null,
   "metadata": {},
   "outputs": [],
   "source": [
    "print(json.dumps(weatherJson, indent =2)) # Convert to readable JSON Format with indent Argument."
   ]
  },
  {
   "cell_type": "markdown",
   "metadata": {},
   "source": [
    "### How to get response value"
   ]
  },
  {
   "cell_type": "code",
   "execution_count": null,
   "metadata": {
    "collapsed": true
   },
   "outputs": [],
   "source": [
    "import datetime"
   ]
  },
  {
   "cell_type": "code",
   "execution_count": null,
   "metadata": {},
   "outputs": [],
   "source": [
    "print(\"City name : \"+weatherJson.get('name'))\n",
    "\n",
    "print(\"Sky Description : \"+weatherJson.get('weather')[0].get('description'))\n",
    "\n",
    "print(\"Humidity : \"+str(weatherJson.get('main')['humidity']))\n",
    "print(\"Wind Speed : \" + str(weatherJson.get('wind')['speed']))\n",
    "print(\"Sunrise Time : \"+ datetime.datetime.fromtimestamp(\n",
    "        int(weatherJson.get('sys')['sunrise'])\n",
    "    ).strftime('%Y-%m-%d %H:%M:%S'))\n",
    "\n",
    "print(\"Sunset Time : \"+datetime.datetime.fromtimestamp(\n",
    "        int(weatherJson.get('sys')['sunset'])\n",
    "     ).strftime('%Y-%m-%d %H:%M:%S'))"
   ]
  },
  {
   "cell_type": "markdown",
   "metadata": {},
   "source": [
    "###  --------------------------------------------------------------------------------------------------\n",
    "## How to 5 Day Every 3 Hours forecasting  from openweather api"
   ]
  },
  {
   "cell_type": "code",
   "execution_count": null,
   "metadata": {},
   "outputs": [],
   "source": [
    "try:\n",
    "        response = requests.get(\n",
    "            url=\"http://api.openweathermap.org/data/2.5/forecast\",\n",
    "            params={\n",
    "                \"lat\": Lat,\n",
    "                \"lon\": Lon,\n",
    "                \"appid\": \"3847aaa8c64d824b67d3558bd3c40e4f\",\n",
    "            },\n",
    "        )\n",
    "        print('Response HTTP Status Code: {status_code}'.format(\n",
    "            status_code=response.status_code))\n",
    "        forecast = response.content\n",
    "except requests.exceptions.RequestException:\n",
    "        print('HTTP Request failed')"
   ]
  },
  {
   "cell_type": "code",
   "execution_count": null,
   "metadata": {
    "collapsed": true
   },
   "outputs": [],
   "source": [
    "forecastJson = json.loads(forecast)"
   ]
  },
  {
   "cell_type": "code",
   "execution_count": null,
   "metadata": {},
   "outputs": [],
   "source": [
    "print(json.dumps(forecastJson, indent=2))"
   ]
  },
  {
   "cell_type": "markdown",
   "metadata": {},
   "source": [
    "### In this result are contained 5 Days Every 3 Hours weather Forecast so we got 40 index of List"
   ]
  },
  {
   "cell_type": "markdown",
   "metadata": {},
   "source": [
    "### This is a example to show datapoint in forecast result for 5 Days (get only Wind Speed)"
   ]
  },
  {
   "cell_type": "code",
   "execution_count": null,
   "metadata": {
    "collapsed": true
   },
   "outputs": [],
   "source": [
    "data = forecastJson.get('list')"
   ]
  },
  {
   "cell_type": "code",
   "execution_count": null,
   "metadata": {
    "collapsed": true
   },
   "outputs": [],
   "source": [
    "windSpeed = []\n",
    "TimeStamp = []\n",
    "Humidity = []"
   ]
  },
  {
   "cell_type": "code",
   "execution_count": null,
   "metadata": {
    "collapsed": true
   },
   "outputs": [],
   "source": [
    "for ind in range(len(data)):\n",
    "    windSpeed.append(data[ind].get('wind')['speed'])\n",
    "    TimeStamp.append(data[ind].get('dt_txt'))\n",
    "    Humidity.append(data[ind].get('main')['humidity'])"
   ]
  },
  {
   "cell_type": "code",
   "execution_count": null,
   "metadata": {},
   "outputs": [],
   "source": [
    "fig = plt.figure(figsize=(18,6), dpi=192)\n",
    "plt.xticks(rotation=90)\n",
    "plt.xlabel('TimeStamp')\n",
    "plt.ylabel('WindSpeed (m/s)')\n",
    "plt.title('5 Day Wind Speed Forecasting')\n",
    "plt.plot_date(TimeStamp,windSpeed,'g.-')\n",
    "# plt.gcf().autofmt_xdate()\n",
    "plt.show()"
   ]
  },
  {
   "cell_type": "code",
   "execution_count": null,
   "metadata": {},
   "outputs": [],
   "source": [
    "fig = plt.figure(figsize=(18,6), dpi=192)\n",
    "plt.xticks(rotation=90)\n",
    "plt.xlabel('TimeStamp')\n",
    "plt.ylabel('Humidity')\n",
    "plt.title('5 Day Humidity Forecasting')\n",
    "plt.plot_date(TimeStamp,Humidity,'r.-')\n",
    "# plt.gcf().autofmt_xdate()\n",
    "plt.show()"
   ]
  },
  {
   "cell_type": "markdown",
   "metadata": {},
   "source": [
    "## End"
   ]
  },
  {
   "cell_type": "code",
   "execution_count": null,
   "metadata": {
    "collapsed": true
   },
   "outputs": [],
   "source": []
  }
 ],
 "metadata": {
  "kernelspec": {
   "display_name": "Python 2",
   "language": "python",
   "name": "python2"
  },
  "language_info": {
   "codemirror_mode": {
    "name": "ipython",
    "version": 2
   },
   "file_extension": ".py",
   "mimetype": "text/x-python",
   "name": "python",
   "nbconvert_exporter": "python",
   "pygments_lexer": "ipython2",
   "version": "2.7.13"
  }
 },
 "nbformat": 4,
 "nbformat_minor": 2
}
